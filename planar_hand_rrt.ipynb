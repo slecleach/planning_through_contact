{
 "cells": [
  {
   "cell_type": "code",
   "execution_count": 34,
   "metadata": {},
   "outputs": [],
   "source": [
    "import sys\n",
    "sys.path.append(\"/planning_through_contact\")"
   ]
  },
  {
   "cell_type": "code",
   "execution_count": 35,
   "metadata": {},
   "outputs": [],
   "source": [
    "import numpy as np\n",
    "import pandas as pd\n",
    "import os\n",
    "from examples.planar_hand.contact_sampler import PlanarHandContactSampler\n",
    "\n",
    "from qsim.parser import QuasistaticParser\n",
    "\n",
    "from irs_rrt.irs_rrt import IrsNode\n",
    "from irs_rrt.irs_rrt_projection import IrsRrtProjection\n",
    "from irs_rrt.rrt_params import IrsRrtProjectionParams, SmoothingMode\n",
    "from examples.planar_hand.planar_hand_setup import *\n",
    "\n",
    "from irs_mpc2.quasistatic_visualizer import QuasistaticVisualizer\n"
   ]
  },
  {
   "cell_type": "code",
   "execution_count": 36,
   "metadata": {},
   "outputs": [
    {
     "name": "stderr",
     "output_type": "stream",
     "text": [
      "INFO:drake:Meshcat listening for connections at http://localhost:7003\n"
     ]
    }
   ],
   "source": [
    "\n",
    "# %% quasistatic system\n",
    "q_parser = QuasistaticParser(q_model_path)\n",
    "\n",
    "q_vis = QuasistaticVisualizer.make_visualizer(q_parser)\n",
    "q_sim, q_sim_py = q_vis.q_sim, q_vis.q_sim_py\n",
    "plant = q_sim.get_plant()\n",
    "\n",
    "dim_x = q_sim.num_dofs()\n",
    "dim_u = q_sim.num_actuated_dofs()\n",
    "idx_a_l = plant.GetModelInstanceByName(robot_l_name)\n",
    "idx_a_r = plant.GetModelInstanceByName(robot_r_name)\n",
    "idx_u = plant.GetModelInstanceByName(object_name)\n",
    "contact_sampler = PlanarHandContactSampler(\n",
    "    q_sim=q_sim, q_sim_py=q_sim_py, pinch_prob=0.1\n",
    ")\n",
    "\n",
    "q_u0 = np.array([0.0, 0.35, 0])\n",
    "q0_dict = contact_sampler.calc_enveloping_grasp(q_u0)\n",
    "q0 = q_sim.get_q_vec_from_dict(q0_dict)\n",
    "\n",
    "\n",
    "joint_limits = {\n",
    "    idx_u: np.array([[-0.3, 0.3], [0.3, 0.5], [-0.01, np.pi + 0.01]])\n",
    "}"
   ]
  },
  {
   "cell_type": "code",
   "execution_count": 37,
   "metadata": {},
   "outputs": [
    {
     "name": "stdout",
     "output_type": "stream",
     "text": [
      "start state: [ 0.          0.35        0.         -0.88050497 -0.60592241  0.88050497\n",
      "  0.60592241]\n",
      "goal state: [ 0.          0.35        3.14159265 -0.88050497 -0.60592241  0.88050497\n",
      "  0.60592241]\n"
     ]
    }
   ],
   "source": [
    "\n",
    "# %% RRT testing\n",
    "rrt_params = IrsRrtProjectionParams(q_model_path, joint_limits)\n",
    "rrt_params.h = h\n",
    "rrt_params.smoothing_mode = SmoothingMode.k1AnalyticPyramid\n",
    "rrt_params.log_barrier_weight_for_bundling = 100\n",
    "rrt_params.root_node = IrsNode(q0)\n",
    "rrt_params.max_size = 100\n",
    "rrt_params.goal = np.copy(q0)\n",
    "rrt_params.goal[2] = np.pi\n",
    "rrt_params.termination_tolerance = 0.01\n",
    "rrt_params.goal_as_subgoal_prob = 0.3\n",
    "rrt_params.regularization = 1e-4\n",
    "rrt_params.rewire = False\n",
    "rrt_params.grasp_prob = 0.\n",
    "rrt_params.distance_threshold = np.inf\n",
    "rrt_params.stepsize = 0.35\n",
    "rrt_params.distance_metric = \"local_u\"\n",
    "\n",
    "# params.distance_metric = 'global'  # If using global metric\n",
    "rrt_params.global_metric = np.array([10.0, 10.0, 1.0, 0.1, 0.1, 0.1, 0.1])\n",
    "\n",
    "print(\"start state:\", q0)\n",
    "print(\"goal state:\", rrt_params.goal)"
   ]
  },
  {
   "cell_type": "code",
   "execution_count": 38,
   "metadata": {},
   "outputs": [],
   "source": [
    "rrt_params.use_free_solvers = True\n",
    "# contact_sampler.sim_params.use_free_solvers = True"
   ]
  },
  {
   "cell_type": "code",
   "execution_count": 39,
   "metadata": {},
   "outputs": [
    {
     "name": "stderr",
     "output_type": "stream",
     "text": [
      "100%|█████████▉| 999/1000 [01:01<00:00, 16.21it/s]\n"
     ]
    }
   ],
   "source": [
    "\n",
    "prob_rrt = IrsRrtProjection(rrt_params, contact_sampler, q_sim, q_sim_py)\n",
    "prob_rrt.iterate()"
   ]
  },
  {
   "cell_type": "code",
   "execution_count": 40,
   "metadata": {},
   "outputs": [
    {
     "name": "stdout",
     "output_type": "stream",
     "text": [
      "closest distance to subgoal 76.52210577809115\n"
     ]
    }
   ],
   "source": [
    "(\n",
    "    q_knots_trimmed,\n",
    "    u_knots_trimmed,\n",
    ") = prob_rrt.get_trimmed_q_and_u_knots_to_goal()\n",
    "q_vis.publish_trajectory(q_knots_trimmed, h=rrt_params.h)"
   ]
  },
  {
   "cell_type": "code",
   "execution_count": 41,
   "metadata": {},
   "outputs": [
    {
     "name": "stdout",
     "output_type": "stream",
     "text": [
      "minimum distance:  76.52210577809115\n",
      "closest state [-0.13355912  0.38456817  0.7661355   0.08969148 -1.90592598  1.26531252\n",
      "  0.49808575]\n",
      "goal state [ 0.          0.35        3.14159265 -0.88050497 -0.60592241  0.88050497\n",
      "  0.60592241]\n"
     ]
    }
   ],
   "source": [
    "d_batch = prob_rrt.calc_distance_batch(rrt_params.goal)\n",
    "print(\"minimum distance: \", d_batch.min())\n",
    "\n",
    "# %%\n",
    "node_id_closest = np.argmin(d_batch)\n",
    "\n",
    "# %%\n",
    "prob_rrt.save_tree(f\"planar_hand_tree_{rrt_params.max_size}_{0}.pkl\")\n",
    "\n",
    "\n",
    "# %%\n",
    "closest_state = prob_rrt.q_matrix[node_id_closest, :]\n",
    "print(\"closest state\", closest_state)\n",
    "print(\"goal state\", rrt_params.goal)\n"
   ]
  },
  {
   "cell_type": "code",
   "execution_count": 42,
   "metadata": {},
   "outputs": [
    {
     "name": "stdout",
     "output_type": "stream",
     "text": [
      "closest node angular error 136.10366938594566\n",
      "minimal angular error 121.9329133306245\n"
     ]
    }
   ],
   "source": [
    "def compute_angular_error(angle, goal_angle):\n",
    "    delta = 360 * (goal_angle - angle) / (2 * np.pi)\n",
    "    delta_wraped = delta - (delta // 360) * 360\n",
    "    if delta_wraped > 180:\n",
    "        delta_wraped -= 360\n",
    "    elif delta_wraped < -180:\n",
    "        delta_wraped += 360\n",
    "    angular_error = np.abs(delta_wraped)\n",
    "    return angular_error\n",
    "\n",
    "def compute_minimal_angular_error(prob_rrt):\n",
    "    rrt_params = prob_rrt.rrt_params\n",
    "    max_size = rrt_params.max_size\n",
    "    goal_angle = rrt_params.goal[2]\n",
    "    angular_errors = np.array([compute_angular_error(prob_rrt.q_matrix[i,2], goal_angle) for i in range(max_size)])\n",
    "    return np.min(angular_errors)\n",
    "\n",
    "\n",
    "def compute_closest_node_angular_error(prob_rrt):\n",
    "    rrt_params = prob_rrt.rrt_params\n",
    "    d_batch = prob_rrt.calc_distance_batch(rrt_params.goal)\n",
    "    node_id_closest = np.argmin(d_batch)\n",
    "    goal_angle = rrt_params.goal[2]\n",
    "    angular_error = compute_angular_error(prob_rrt.q_matrix[node_id_closest,2], goal_angle)\n",
    "    return angular_error\n",
    "\n",
    "\n",
    "closest_node_angular_error = compute_closest_node_angular_error(prob_rrt)\n",
    "minimal_angular_error = compute_minimal_angular_error(prob_rrt)\n",
    "\n",
    "print(\"closest node angular error\", closest_node_angular_error)\n",
    "print(\"minimal angular error\", minimal_angular_error)"
   ]
  },
  {
   "cell_type": "code",
   "execution_count": 43,
   "metadata": {},
   "outputs": [],
   "source": [
    "# we benchmark the performanc eof the RRT search on 4 tasks: roate the ball by 45, 90, 135, and 180 degrees.\n",
    "# we run 1400 iterations per RRT search (this corresponds to 1 min of compute per search on the bdai laptop)\n",
    "# we run each task 50 times and report the average and std angular error for the ball.\n",
    "# minimal_angular_error is the error of the state with minimal error in the tree\n",
    "# closest_node_angular_error is the erro of the state considered closets to the goal"
   ]
  },
  {
   "cell_type": "code",
   "execution_count": 48,
   "metadata": {},
   "outputs": [],
   "source": [
    "# goal_angles = np.array([45, 90, 135, 180]) / 360 * 2 * np.pi\n",
    "# num_samples = 50\n",
    "# num_iterations = 1400\n",
    "goal_angles = np.array([45, 90]) / 360 * 2 * np.pi\n",
    "num_samples = 4\n",
    "num_iterations = 14\n"
   ]
  },
  {
   "cell_type": "code",
   "execution_count": 52,
   "metadata": {},
   "outputs": [
    {
     "name": "stderr",
     "output_type": "stream",
     "text": [
      " 93%|█████████▎| 13/14 [00:00<00:00, 27.72it/s]\n",
      " 93%|█████████▎| 13/14 [00:00<00:00, 55.32it/s]\n",
      " 93%|█████████▎| 13/14 [00:00<00:00, 15.96it/s]\n",
      " 93%|█████████▎| 13/14 [00:00<00:00, 16.61it/s]\n",
      " 93%|█████████▎| 13/14 [00:01<00:00, 10.96it/s]\n",
      " 93%|█████████▎| 13/14 [00:00<00:00, 21.40it/s]\n",
      " 93%|█████████▎| 13/14 [00:00<00:00, 31.25it/s]\n",
      " 93%|█████████▎| 13/14 [00:00<00:00, 32.30it/s]"
     ]
    },
    {
     "name": "stdout",
     "output_type": "stream",
     "text": [
      "minimal_angular_errors [[42.16685087 42.48907939 43.06973948 42.17456388]\n",
      " [86.36314007 87.6954748  87.67725461 86.93100219]]\n",
      "closest_node_angular_errors [[45. 45. 45. 45.]\n",
      " [90. 90. 90. 90.]]\n"
     ]
    },
    {
     "name": "stderr",
     "output_type": "stream",
     "text": [
      "\n"
     ]
    }
   ],
   "source": [
    "rrt_params.max_size = num_iterations\n",
    "\n",
    "minimal_angular_errors = np.zeros((len(goal_angles), num_samples))\n",
    "closest_node_angular_errors = np.zeros((len(goal_angles), num_samples))\n",
    "\n",
    "for task_idx, goal_angle in enumerate(goal_angles):\n",
    "    for sample_idx in range(num_samples):\n",
    "        rrt_params.goal[2] = goal_angle\n",
    "        prob_rrt = IrsRrtProjection(rrt_params, contact_sampler, q_sim, q_sim_py)\n",
    "        prob_rrt.iterate()\n",
    "        minimal_angular_errors[task_idx, sample_idx] = compute_minimal_angular_error(prob_rrt)\n",
    "        closest_node_angular_errors[task_idx, sample_idx] = compute_closest_node_angular_error(prob_rrt)\n",
    "\n",
    "print(\"minimal_angular_errors\", minimal_angular_errors)\n",
    "print(\"closest_node_angular_errors\", closest_node_angular_errors)\n"
   ]
  },
  {
   "cell_type": "code",
   "execution_count": 50,
   "metadata": {},
   "outputs": [
    {
     "name": "stdout",
     "output_type": "stream",
     "text": [
      "   goal_angle          0          1          2          3\n",
      "0    0.785398  42.488130  42.346242  42.454353  42.701517\n",
      "1    1.570796  87.709051  87.795023  87.553409  87.933081\n"
     ]
    },
    {
     "ename": "ValueError",
     "evalue": "cannot insert goal_angle, already exists",
     "output_type": "error",
     "traceback": [
      "\u001b[0;31m---------------------------------------------------------------------------\u001b[0m",
      "\u001b[0;31mValueError\u001b[0m                                Traceback (most recent call last)",
      "\u001b[0;32m/tmp/ipykernel_1074/2543757113.py\u001b[0m in \u001b[0;36m<module>\u001b[0;34m\u001b[0m\n\u001b[1;32m      1\u001b[0m \u001b[0mprint\u001b[0m\u001b[0;34m(\u001b[0m\u001b[0mdf_minimal_angular_errors\u001b[0m\u001b[0;34m)\u001b[0m\u001b[0;34m\u001b[0m\u001b[0;34m\u001b[0m\u001b[0m\n\u001b[1;32m      2\u001b[0m \u001b[0;31m# Insert goal_angles as the first column\u001b[0m\u001b[0;34m\u001b[0m\u001b[0;34m\u001b[0m\u001b[0m\n\u001b[0;32m----> 3\u001b[0;31m \u001b[0mdf_minimal_angular_errors\u001b[0m\u001b[0;34m.\u001b[0m\u001b[0minsert\u001b[0m\u001b[0;34m(\u001b[0m\u001b[0;36m0\u001b[0m\u001b[0;34m,\u001b[0m \u001b[0;34m'goal_angle'\u001b[0m\u001b[0;34m,\u001b[0m \u001b[0mgoal_angles\u001b[0m\u001b[0;34m)\u001b[0m\u001b[0;34m\u001b[0m\u001b[0;34m\u001b[0m\u001b[0m\n\u001b[0m\u001b[1;32m      4\u001b[0m \u001b[0mdf_closest_node_angular_errors\u001b[0m\u001b[0;34m.\u001b[0m\u001b[0minsert\u001b[0m\u001b[0;34m(\u001b[0m\u001b[0;36m0\u001b[0m\u001b[0;34m,\u001b[0m \u001b[0;34m'goal_angle'\u001b[0m\u001b[0;34m,\u001b[0m \u001b[0mgoal_angles\u001b[0m\u001b[0;34m)\u001b[0m\u001b[0;34m\u001b[0m\u001b[0;34m\u001b[0m\u001b[0m\n\u001b[1;32m      5\u001b[0m \u001b[0mprint\u001b[0m\u001b[0;34m(\u001b[0m\u001b[0mdf_minimal_angular_errors\u001b[0m\u001b[0;34m)\u001b[0m\u001b[0;34m\u001b[0m\u001b[0;34m\u001b[0m\u001b[0m\n",
      "\u001b[0;32m/usr/local/lib/python3.10/dist-packages/pandas/core/frame.py\u001b[0m in \u001b[0;36minsert\u001b[0;34m(self, loc, column, value, allow_duplicates)\u001b[0m\n\u001b[1;32m   5156\u001b[0m         \u001b[0;32mif\u001b[0m \u001b[0;32mnot\u001b[0m \u001b[0mallow_duplicates\u001b[0m \u001b[0;32mand\u001b[0m \u001b[0mcolumn\u001b[0m \u001b[0;32min\u001b[0m \u001b[0mself\u001b[0m\u001b[0;34m.\u001b[0m\u001b[0mcolumns\u001b[0m\u001b[0;34m:\u001b[0m\u001b[0;34m\u001b[0m\u001b[0;34m\u001b[0m\u001b[0m\n\u001b[1;32m   5157\u001b[0m             \u001b[0;31m# Should this be a different kind of error??\u001b[0m\u001b[0;34m\u001b[0m\u001b[0;34m\u001b[0m\u001b[0m\n\u001b[0;32m-> 5158\u001b[0;31m             \u001b[0;32mraise\u001b[0m \u001b[0mValueError\u001b[0m\u001b[0;34m(\u001b[0m\u001b[0;34mf\"cannot insert {column}, already exists\"\u001b[0m\u001b[0;34m)\u001b[0m\u001b[0;34m\u001b[0m\u001b[0;34m\u001b[0m\u001b[0m\n\u001b[0m\u001b[1;32m   5159\u001b[0m         \u001b[0;32mif\u001b[0m \u001b[0;32mnot\u001b[0m \u001b[0mis_integer\u001b[0m\u001b[0;34m(\u001b[0m\u001b[0mloc\u001b[0m\u001b[0;34m)\u001b[0m\u001b[0;34m:\u001b[0m\u001b[0;34m\u001b[0m\u001b[0;34m\u001b[0m\u001b[0m\n\u001b[1;32m   5160\u001b[0m             \u001b[0;32mraise\u001b[0m \u001b[0mTypeError\u001b[0m\u001b[0;34m(\u001b[0m\u001b[0;34m\"loc must be int\"\u001b[0m\u001b[0;34m)\u001b[0m\u001b[0;34m\u001b[0m\u001b[0;34m\u001b[0m\u001b[0m\n",
      "\u001b[0;31mValueError\u001b[0m: cannot insert goal_angle, already exists"
     ]
    }
   ],
   "source": [
    "# Convert matrices to DataFrame\n",
    "df_minimal_angular_errors = pd.DataFrame(minimal_angular_errors)\n",
    "df_closest_node_angular_errors = pd.DataFrame(closest_node_angular_errors)\n",
    "\n",
    "# Insert goal_angles as the first column\n",
    "df_minimal_angular_errors.insert(0, 'goal_angle', goal_angles * 360 / (2 * np.pi))\n",
    "df_closest_node_angular_errors.insert(0, 'goal_angle', goal_angles * 360 / (2 * np.pi))\n",
    "\n",
    "# Save DataFrames to CSV files\n",
    "\n",
    "# Ensure the directory exists\n",
    "benchmark_dir = \"benchmark_data\"\n",
    "os.makedirs(benchmark_dir, exist_ok=True)\n",
    "\n",
    "df_minimal_angular_errors.to_csv(\"benchmark_data/minimal_angular_errors.csv\", index=False)\n",
    "df_closest_node_angular_errors.to_csv(\"benchmark_data/closest_node_angular_errors.csv\", index=False)"
   ]
  },
  {
   "cell_type": "code",
   "execution_count": null,
   "metadata": {},
   "outputs": [],
   "source": []
  }
 ],
 "metadata": {
  "kernelspec": {
   "display_name": "Python 3",
   "language": "python",
   "name": "python3"
  },
  "language_info": {
   "codemirror_mode": {
    "name": "ipython",
    "version": 3
   },
   "file_extension": ".py",
   "mimetype": "text/x-python",
   "name": "python",
   "nbconvert_exporter": "python",
   "pygments_lexer": "ipython3",
   "version": "3.10.6"
  }
 },
 "nbformat": 4,
 "nbformat_minor": 2
}
