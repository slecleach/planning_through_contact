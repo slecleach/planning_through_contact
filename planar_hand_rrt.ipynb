{
 "cells": [
  {
   "cell_type": "code",
   "execution_count": 9,
   "metadata": {},
   "outputs": [],
   "source": [
    "import sys\n",
    "sys.path.append(\"/planning_through_contact\")"
   ]
  },
  {
   "cell_type": "code",
   "execution_count": 10,
   "metadata": {},
   "outputs": [],
   "source": [
    "import numpy as np\n",
    "import pandas as pd\n",
    "import os\n",
    "from examples.planar_hand.contact_sampler import PlanarHandContactSampler\n",
    "\n",
    "from qsim.parser import QuasistaticParser\n",
    "\n",
    "from irs_rrt.irs_rrt import IrsNode\n",
    "from irs_rrt.irs_rrt_projection import IrsRrtProjection\n",
    "from irs_rrt.rrt_params import IrsRrtProjectionParams, SmoothingMode\n",
    "from examples.planar_hand.planar_hand_setup import *\n",
    "\n",
    "from irs_mpc2.quasistatic_visualizer import QuasistaticVisualizer\n"
   ]
  },
  {
   "cell_type": "code",
   "execution_count": 11,
   "metadata": {},
   "outputs": [
    {
     "name": "stderr",
     "output_type": "stream",
     "text": [
      "INFO:drake:Meshcat listening for connections at http://localhost:7001\n"
     ]
    }
   ],
   "source": [
    "\n",
    "# %% quasistatic system\n",
    "q_parser = QuasistaticParser(q_model_path)\n",
    "\n",
    "q_vis = QuasistaticVisualizer.make_visualizer(q_parser)\n",
    "q_sim, q_sim_py = q_vis.q_sim, q_vis.q_sim_py\n",
    "plant = q_sim.get_plant()\n",
    "\n",
    "dim_x = q_sim.num_dofs()\n",
    "dim_u = q_sim.num_actuated_dofs()\n",
    "idx_a_l = plant.GetModelInstanceByName(robot_l_name)\n",
    "idx_a_r = plant.GetModelInstanceByName(robot_r_name)\n",
    "idx_u = plant.GetModelInstanceByName(object_name)\n",
    "contact_sampler = PlanarHandContactSampler(\n",
    "    q_sim=q_sim, q_sim_py=q_sim_py, pinch_prob=0.1\n",
    ")\n",
    "\n",
    "q_u0 = np.array([0.0, 0.35, 0])\n",
    "q0_dict = contact_sampler.calc_enveloping_grasp(q_u0)\n",
    "q0 = q_sim.get_q_vec_from_dict(q0_dict)\n",
    "\n",
    "\n",
    "joint_limits = {\n",
    "    idx_u: np.array([[-0.3, 0.3], [0.3, 0.5], [-0.01, np.pi + 0.01]])\n",
    "}"
   ]
  },
  {
   "cell_type": "code",
   "execution_count": 12,
   "metadata": {},
   "outputs": [
    {
     "name": "stdout",
     "output_type": "stream",
     "text": [
      "start state: [ 0.          0.35        0.         -0.88050497 -0.60592241  0.88050497\n",
      "  0.60592241]\n",
      "goal state: [ 0.          0.35        3.14159265 -0.88050497 -0.60592241  0.88050497\n",
      "  0.60592241]\n"
     ]
    }
   ],
   "source": [
    "\n",
    "# %% RRT testing\n",
    "rrt_params = IrsRrtProjectionParams(q_model_path, joint_limits)\n",
    "rrt_params.h = h\n",
    "rrt_params.smoothing_mode = SmoothingMode.k1AnalyticPyramid\n",
    "rrt_params.log_barrier_weight_for_bundling = 100\n",
    "rrt_params.root_node = IrsNode(q0)\n",
    "rrt_params.max_size = 100\n",
    "rrt_params.goal = np.copy(q0)\n",
    "rrt_params.goal[2] = np.pi\n",
    "rrt_params.termination_tolerance = 0.01\n",
    "rrt_params.goal_as_subgoal_prob = 0.3\n",
    "rrt_params.regularization = 1e-4\n",
    "rrt_params.rewire = False\n",
    "rrt_params.grasp_prob = 0.\n",
    "rrt_params.distance_threshold = np.inf\n",
    "rrt_params.stepsize = 0.35\n",
    "rrt_params.distance_metric = \"local_u\"\n",
    "\n",
    "# params.distance_metric = 'global'  # If using global metric\n",
    "rrt_params.global_metric = np.array([10.0, 10.0, 1.0, 0.1, 0.1, 0.1, 0.1])\n",
    "\n",
    "print(\"start state:\", q0)\n",
    "print(\"goal state:\", rrt_params.goal)"
   ]
  },
  {
   "cell_type": "code",
   "execution_count": 13,
   "metadata": {},
   "outputs": [],
   "source": [
    "rrt_params.use_free_solvers = True\n",
    "# contact_sampler.sim_params.use_free_solvers = True"
   ]
  },
  {
   "cell_type": "code",
   "execution_count": 14,
   "metadata": {},
   "outputs": [
    {
     "name": "stderr",
     "output_type": "stream",
     "text": [
      " 99%|█████████▉| 99/100 [00:01<00:00, 50.18it/s]\n"
     ]
    }
   ],
   "source": [
    "\n",
    "prob_rrt = IrsRrtProjection(rrt_params, contact_sampler, q_sim, q_sim_py)\n",
    "prob_rrt.iterate()"
   ]
  },
  {
   "cell_type": "code",
   "execution_count": 15,
   "metadata": {},
   "outputs": [
    {
     "name": "stdout",
     "output_type": "stream",
     "text": [
      "closest distance to subgoal 497.49533558657384\n"
     ]
    }
   ],
   "source": [
    "(\n",
    "    q_knots_trimmed,\n",
    "    u_knots_trimmed,\n",
    ") = prob_rrt.get_trimmed_q_and_u_knots_to_goal()\n",
    "q_vis.publish_trajectory(q_knots_trimmed, h=rrt_params.h)"
   ]
  },
  {
   "cell_type": "code",
   "execution_count": 16,
   "metadata": {},
   "outputs": [
    {
     "name": "stdout",
     "output_type": "stream",
     "text": [
      "minimum distance:  497.49533558657384\n",
      "closest state [ 0.          0.35        0.         -0.88050497 -0.60592241  0.88050497\n",
      "  0.60592241]\n",
      "goal state [ 0.          0.35        3.14159265 -0.88050497 -0.60592241  0.88050497\n",
      "  0.60592241]\n"
     ]
    }
   ],
   "source": [
    "d_batch = prob_rrt.calc_distance_batch(rrt_params.goal)\n",
    "print(\"minimum distance: \", d_batch.min())\n",
    "\n",
    "# %%\n",
    "node_id_closest = np.argmin(d_batch)\n",
    "\n",
    "# %%\n",
    "prob_rrt.save_tree(f\"planar_hand_tree_{rrt_params.max_size}_{0}.pkl\")\n",
    "\n",
    "\n",
    "# %%\n",
    "closest_state = prob_rrt.q_matrix[node_id_closest, :]\n",
    "print(\"closest state\", closest_state)\n",
    "print(\"goal state\", rrt_params.goal)\n"
   ]
  },
  {
   "cell_type": "code",
   "execution_count": null,
   "metadata": {},
   "outputs": [],
   "source": []
  },
  {
   "cell_type": "code",
   "execution_count": null,
   "metadata": {},
   "outputs": [],
   "source": []
  }
 ],
 "metadata": {
  "kernelspec": {
   "display_name": "Python 3",
   "language": "python",
   "name": "python3"
  },
  "language_info": {
   "codemirror_mode": {
    "name": "ipython",
    "version": 3
   },
   "file_extension": ".py",
   "mimetype": "text/x-python",
   "name": "python",
   "nbconvert_exporter": "python",
   "pygments_lexer": "ipython3",
   "version": "3.10.6"
  }
 },
 "nbformat": 4,
 "nbformat_minor": 2
}
